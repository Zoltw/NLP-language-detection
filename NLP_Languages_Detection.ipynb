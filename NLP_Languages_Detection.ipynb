{
 "cells": [
  {
   "cell_type": "markdown",
   "id": "4a48b13d",
   "metadata": {},
   "source": [
    "pip install fasttext"
   ]
  },
  {
   "cell_type": "code",
   "execution_count": 2,
   "id": "aeef2fe7",
   "metadata": {},
   "outputs": [],
   "source": [
    "import csv\n",
    "import fasttext\n",
    "import random"
   ]
  },
  {
   "cell_type": "markdown",
   "id": "a96dc918",
   "metadata": {},
   "source": [
    "Prepare our data from csv"
   ]
  },
  {
   "cell_type": "code",
   "execution_count": 9,
   "id": "802c011e",
   "metadata": {},
   "outputs": [],
   "source": [
    "csv_file_name = 'europarl.csv'\n",
    "txt_file_name = 'train.txt'\n",
    "\n",
    "with open(csv_file_name, mode='r', encoding='utf-8') as csv_file:\n",
    "    reader = csv.reader(csv_file)\n",
    "    with open(txt_file_name, mode='w', encoding='utf-8') as txt_file:\n",
    "        for row in reader:\n",
    "            if row:\n",
    "                label = f'__label__{row[0]}'\n",
    "                content = row[1]\n",
    "                txt_file.write(f'{label} {content}\\n')\n"
   ]
  },
  {
   "cell_type": "markdown",
   "id": "ef9577d7",
   "metadata": {},
   "source": [
    "First try"
   ]
  },
  {
   "cell_type": "code",
   "execution_count": 21,
   "id": "dd4f61c8",
   "metadata": {},
   "outputs": [
    {
     "name": "stderr",
     "output_type": "stream",
     "text": [
      "Read 52M words\n",
      "Number of words:  2166546\n",
      "Number of labels: 21\n",
      "Progress: 100.0% words/sec/thread:  834483 lr:  0.000000 avg.loss:  0.050963 ETA:   0h 0m 0s100.0% words/sec/thread:  834486 lr: -0.000000 avg.loss:  0.050963 ETA:   0h 0m 0s\n"
     ]
    }
   ],
   "source": [
    "model1 = fasttext.train_supervised(input=\"train.txt\", dim=16, minn=2, maxn=5)\n",
    "model1.save_model(\"train1.bin\")"
   ]
  },
  {
   "cell_type": "code",
   "execution_count": 23,
   "id": "089b98a2",
   "metadata": {},
   "outputs": [
    {
     "name": "stderr",
     "output_type": "stream",
     "text": [
      "Read 52M words\n",
      "Number of words:  2166546\n",
      "Number of labels: 21\n",
      "Progress: 100.0% words/sec/thread:  797453 lr:  0.000000 avg.loss:  0.121643 ETA:   0h 0m 0s 68.5% words/sec/thread:  840079 lr:  0.031466 avg.loss:  0.128277 ETA:   0h 0m14s100.0% words/sec/thread:  797456 lr: -0.000000 avg.loss:  0.121643 ETA:   0h 0m 0s\n"
     ]
    }
   ],
   "source": [
    "model2 = fasttext.train_supervised(input=\"train.txt\", dim=16, minn=2, maxn=5, loss=\"ova\")\n",
    "model2.save_model(\"train2.bin\")"
   ]
  },
  {
   "cell_type": "code",
   "execution_count": 12,
   "id": "87d1f2f6",
   "metadata": {},
   "outputs": [
    {
     "name": "stderr",
     "output_type": "stream",
     "text": [
      "Read 52M words\n",
      "Number of words:  2166546\n",
      "Number of labels: 21\n",
      "Progress: 100.0% words/sec/thread:  279708 lr:  0.000000 avg.loss:  0.023448 ETA:   0h 0m 0s  2.0% words/sec/thread:  297145 lr:  0.489952 avg.loss:  0.119818 ETA:   0h10m20s  2.2% words/sec/thread:  289525 lr:  0.488755 avg.loss:  0.111398 ETA:   0h10m34s  4.2% words/sec/thread:  252495 lr:  0.479109 avg.loss:  0.088308 ETA:   0h11m53s 10.0% words/sec/thread:  284876 lr:  0.449940 avg.loss:  0.058492 ETA:   0h 9m54s 11.5% words/sec/thread:  287990 lr:  0.442683 avg.loss:  0.053808 ETA:   0h 9m38s 21.7% words/sec/thread:  280723 lr:  0.391537 avg.loss:  0.041382 ETA:   0h 8m44s 22.9% words/sec/thread:  282548 lr:  0.385391 avg.loss:  0.041056 ETA:   0h 8m32s 25.7% words/sec/thread:  273880 lr:  0.371739 avg.loss:  0.038526 ETA:   0h 8m30s 33.3% words/sec/thread:  265237 lr:  0.333508 avg.loss:  0.034062 ETA:   0h 7m52s 54.6% words/sec/thread:  272917 lr:  0.226851 avg.loss:  0.028186 ETA:   0h 5m12s 68.5% words/sec/thread:  276717 lr:  0.157338 avg.loss:  0.025705 ETA:   0h 3m33s 83.2% words/sec/thread:  278171 lr:  0.083830 avg.loss:  0.024533 ETA:   0h 1m53s 86.0% words/sec/thread:  278351 lr:  0.070101 avg.loss:  0.024420 ETA:   0h 1m34s 92.2% words/sec/thread:  280303 lr:  0.039210 avg.loss:  0.023571 ETA:   0h 0m52s 95.4% words/sec/thread:  277934 lr:  0.023108 avg.loss:  0.023474 ETA:   0h 0m31s 98.4% words/sec/thread:  279278 lr:  0.008154 avg.loss:  0.023553 ETA:   0h 0m10s 98.5% words/sec/thread:  279256 lr:  0.007730 avg.loss:  0.023535 ETA:   0h 0m10s 99.0% words/sec/thread:  279321 lr:  0.004769 avg.loss:  0.023521 ETA:   0h 0m 6s\n"
     ]
    }
   ],
   "source": [
    "model3 = fasttext.train_supervised(input=\"train.txt\", dim=100, epoch=25, lr=0.5, minn=2, maxn=5, loss=\"ova\")\n",
    "model3.save_model(\"train3.bin\")"
   ]
  },
  {
   "cell_type": "code",
   "execution_count": 13,
   "id": "708b7bac",
   "metadata": {},
   "outputs": [
    {
     "name": "stderr",
     "output_type": "stream",
     "text": [
      "Warning : `load_model` does not return WordVectorModel or SupervisedModel any more, but a `FastText` object which is very similar.\n"
     ]
    }
   ],
   "source": [
    "model4 = fasttext.load_model('lid.176.bin')"
   ]
  },
  {
   "cell_type": "code",
   "execution_count": 14,
   "id": "fc6233e6",
   "metadata": {},
   "outputs": [],
   "source": [
    "sentences = [\n",
    "    \"Μένω σε μια μεγάλη πόλη και είμαι ηλεκτρολόγος μηχανικός.\",\n",
    "    \"Hej, jeg spørger om dit helbred\",\n",
    "    \"Dobrý den, ptám se na Váš zdravotní stav\",\n",
    "    \"Hello, I'm asking about your health\",\n",
    "    \"Witam i o zdrowie pytam\",\n",
    "    \"Hallo, ich frage nach Ihrem Gesundheitszustand\",\n",
    "    \"Hola te pregunto por tu salud\",\n",
    "    \"Tere, küsin teie tervise kohta\",\n",
    "    \"Hei, kysyn terveydestäsi\",\n",
    "    \"Bonjour, je vous pose des questions sur votre santé\",\n",
    "    \"Sziasztok, egészségi állapotodról kérdezem\",\n",
    "    \"Ciao, ti chiedo della tua salute\",\n",
    "    \"Labdien, es jautāju par jūsu veselību\",\n",
    "    \"Hallo, ik vraag naar uw gezondheid\",\n",
    "    \"Olá, estou perguntando sobre sua saúde\",\n",
    "    \"Buna ziua, intreb despre sanatatea ta\",\n",
    "    \"Dobrý deň, pýtam sa na Váš zdravotný stav\",\n",
    "    \"Pozdravljeni, sprašujem za vaše zdravje\",\n",
    "    \"Hej, jag frågar om din hälsa\",\n",
    "]"
   ]
  },
  {
   "cell_type": "markdown",
   "id": "a6c4245e",
   "metadata": {},
   "source": [
    "### First trained model"
   ]
  },
  {
   "cell_type": "code",
   "execution_count": 24,
   "id": "1a8bdf1a",
   "metadata": {},
   "outputs": [
    {
     "name": "stdout",
     "output_type": "stream",
     "text": [
      "__label__el, probability: 99.95%\n",
      "__label__da, probability: 97.60%\n",
      "__label__cs, probability: 96.28%\n",
      "__label__en, probability: 63.98%\n",
      "__label__pl, probability: 96.96%\n",
      "__label__de, probability: 91.26%\n",
      "__label__es, probability: 68.60%\n",
      "__label__et, probability: 55.26%\n",
      "__label__fi, probability: 98.42%\n",
      "__label__fr, probability: 99.69%\n",
      "__label__hu, probability: 99.76%\n",
      "__label__it, probability: 62.18%\n",
      "__label__lv, probability: 99.90%\n",
      "__label__nl, probability: 99.69%\n",
      "__label__pt, probability: 88.65%\n",
      "__label__ro, probability: 76.16%\n",
      "__label__sl, probability: 92.16%\n",
      "__label__sl, probability: 99.95%\n",
      "__label__sv, probability: 99.93%\n"
     ]
    }
   ],
   "source": [
    "language, probability = model1.predict(sentences)\n",
    "for index, sentence in enumerate(sentences):\n",
    "    print(\"{}, probability: {:.2%}\".format( language[index][0], probability[index][0] ))"
   ]
  },
  {
   "cell_type": "markdown",
   "id": "0b9ee19f",
   "metadata": {},
   "source": [
    "### Second trained model"
   ]
  },
  {
   "cell_type": "code",
   "execution_count": 25,
   "id": "efc60575",
   "metadata": {},
   "outputs": [
    {
     "name": "stdout",
     "output_type": "stream",
     "text": [
      "__label__el, probability: 99.86%\n",
      "__label__da, probability: 41.49%\n",
      "__label__cs, probability: 96.27%\n",
      "__label__en, probability: 53.12%\n",
      "__label__pl, probability: 98.41%\n",
      "__label__de, probability: 23.94%\n",
      "__label__sl, probability: 8.76%\n",
      "__label__et, probability: 34.87%\n",
      "__label__fi, probability: 92.19%\n",
      "__label__fr, probability: 91.49%\n",
      "__label__hu, probability: 99.95%\n",
      "__label__it, probability: 98.20%\n",
      "__label__lv, probability: 99.43%\n",
      "__label__nl, probability: 100.00%\n",
      "__label__pt, probability: 87.06%\n",
      "__label__sl, probability: 39.98%\n",
      "__label__sl, probability: 79.82%\n",
      "__label__sl, probability: 99.86%\n",
      "__label__sv, probability: 96.27%\n"
     ]
    }
   ],
   "source": [
    "language, probability = model2.predict(sentences)\n",
    "for index, sentence in enumerate(sentences):\n",
    "    print(\"{}, probability: {:.2%}\".format( language[index][0], probability[index][0] ))"
   ]
  },
  {
   "cell_type": "markdown",
   "id": "2c2e9b64",
   "metadata": {},
   "source": [
    "### Third trained model"
   ]
  },
  {
   "cell_type": "code",
   "execution_count": 26,
   "id": "6da95908",
   "metadata": {},
   "outputs": [
    {
     "name": "stdout",
     "output_type": "stream",
     "text": [
      "__label__el, probability: 100.00%\n",
      "__label__da, probability: 99.57%\n",
      "__label__cs, probability: 99.90%\n",
      "__label__en, probability: 99.00%\n",
      "__label__pl, probability: 100.00%\n",
      "__label__de, probability: 100.00%\n",
      "__label__es, probability: 97.90%\n",
      "__label__et, probability: 88.40%\n",
      "__label__fi, probability: 99.65%\n",
      "__label__fr, probability: 100.00%\n",
      "__label__hu, probability: 100.00%\n",
      "__label__it, probability: 85.20%\n",
      "__label__lv, probability: 100.00%\n",
      "__label__nl, probability: 100.00%\n",
      "__label__pt, probability: 99.46%\n",
      "__label__sl, probability: 0.38%\n",
      "__label__sk, probability: 86.70%\n",
      "__label__sl, probability: 100.00%\n",
      "__label__sv, probability: 99.96%\n"
     ]
    }
   ],
   "source": [
    "language, probability = model3.predict(sentences)\n",
    "for index, sentence in enumerate(sentences):\n",
    "    print(\"{}, probability: {:.2%}\".format( language[index][0], probability[index][0] ))"
   ]
  },
  {
   "cell_type": "markdown",
   "id": "b969abfb",
   "metadata": {},
   "source": [
    "### Pretrained model by meta"
   ]
  },
  {
   "cell_type": "code",
   "execution_count": 27,
   "id": "ce64ffaf",
   "metadata": {},
   "outputs": [
    {
     "name": "stdout",
     "output_type": "stream",
     "text": [
      "__label__el, probability: 99.93%\n",
      "__label__da, probability: 99.12%\n",
      "__label__cs, probability: 97.96%\n",
      "__label__en, probability: 97.61%\n",
      "__label__pl, probability: 86.43%\n",
      "__label__de, probability: 99.51%\n",
      "__label__es, probability: 96.83%\n",
      "__label__et, probability: 89.36%\n",
      "__label__fi, probability: 94.43%\n",
      "__label__fr, probability: 99.71%\n",
      "__label__hu, probability: 99.98%\n",
      "__label__it, probability: 99.25%\n",
      "__label__lv, probability: 98.32%\n",
      "__label__nl, probability: 99.94%\n",
      "__label__pt, probability: 99.97%\n",
      "__label__ro, probability: 50.22%\n",
      "__label__cs, probability: 58.11%\n",
      "__label__sl, probability: 83.08%\n",
      "__label__sv, probability: 99.78%\n"
     ]
    }
   ],
   "source": [
    "language, probability = model4.predict(sentences)\n",
    "for index, sentence in enumerate(sentences):\n",
    "    print(\"{}, probability: {:.2%}\".format( language[index][0], probability[index][0] ))"
   ]
  },
  {
   "cell_type": "code",
   "execution_count": null,
   "id": "9ab67f83",
   "metadata": {},
   "outputs": [],
   "source": []
  }
 ],
 "metadata": {
  "kernelspec": {
   "display_name": "Python 3 (ipykernel)",
   "language": "python",
   "name": "python3"
  },
  "language_info": {
   "codemirror_mode": {
    "name": "ipython",
    "version": 3
   },
   "file_extension": ".py",
   "mimetype": "text/x-python",
   "name": "python",
   "nbconvert_exporter": "python",
   "pygments_lexer": "ipython3",
   "version": "3.9.7"
  }
 },
 "nbformat": 4,
 "nbformat_minor": 5
}
